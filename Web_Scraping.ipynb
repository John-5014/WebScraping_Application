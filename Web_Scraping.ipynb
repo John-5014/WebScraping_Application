{
 "cells": [
  {
   "cell_type": "markdown",
   "id": "46ce68c6",
   "metadata": {},
   "source": [
    "# WEB SCRAPING ANALYSIS"
   ]
  },
  {
   "cell_type": "markdown",
   "id": "ec9148c5",
   "metadata": {},
   "source": [
    "### Importing Libraries"
   ]
  },
  {
   "cell_type": "code",
   "execution_count": 1,
   "id": "51100f8a",
   "metadata": {},
   "outputs": [],
   "source": [
    "# importing necessary libraries\n",
    "from bs4 import BeautifulSoup\n",
    "import requests\n",
    "import pandas as pd"
   ]
  },
  {
   "cell_type": "code",
   "execution_count": null,
   "id": "e0f4f357",
   "metadata": {},
   "outputs": [],
   "source": []
  }
 ],
 "metadata": {
  "kernelspec": {
   "display_name": "Python 3 (ipykernel)",
   "language": "python",
   "name": "python3"
  },
  "language_info": {
   "codemirror_mode": {
    "name": "ipython",
    "version": 3
   },
   "file_extension": ".py",
   "mimetype": "text/x-python",
   "name": "python",
   "nbconvert_exporter": "python",
   "pygments_lexer": "ipython3",
   "version": "3.10.10"
  }
 },
 "nbformat": 4,
 "nbformat_minor": 5
}
